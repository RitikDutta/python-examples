{
  "cells": [
    {
      "cell_type": "raw",
      "metadata": {},
      "source": [
        "---\n",
        "title: Quarto matplotlib and lightbox demo\n",
        "filters:\n",
        "  - lightbox\n",
        "lightbox: auto\n",
        "format:\n",
        "  html:\n",
        "    code-fold: true\n",
        "resource_files:\n",
        "  - _extensions/quarto-ext/lightbox/lightbox.lua\n",
        "  - _extensions/quarto-ext/lightbox/lightbox.css\n",
        "  - _extensions/quarto-ext/lightbox/_extension.yml\n",
        "  - _extensions/quarto-ext/lightbox/resources/css/glightbox.min.css\n",
        "  - _extensions/quarto-ext/lightbox/resources/js/glightbox.min.js\n",
        "---"
      ],
      "id": "2f230601"
    },
    {
      "cell_type": "markdown",
      "metadata": {},
      "source": [
        "## Quarto\n",
        "\n",
        "Quarto enables you to weave together content and executable code into a finished document. To learn more about Quarto see <https://quarto.org>.\n",
        "\n",
        "## matplotlib demo\n",
        "\n",
        "Quarto can use different languages and packages, for example [Python](https://quarto.org/docs/computations/python.html). This example is using the Jupyter engine (python3 kernel) following the Quarto instructions on [this page](https://quarto.org/docs/tools/rstudio.html#jupyter-engine). \n",
        "\n",
        "For example, computing the go-to demonstration of a line plot on a polar axis using python and jupyter for rendering:\n"
      ],
      "id": "eb4c3b3e"
    },
    {
      "cell_type": "code",
      "metadata": {},
      "source": [
        "#| label: fig-polar\n",
        "#| fig-cap: A line plot on a polar axis\n",
        "\n",
        "import numpy as np\n",
        "import matplotlib.pyplot as plt\n",
        "\n",
        "r = np.arange(0, 2, 0.01)\n",
        "theta = 2 * np.pi * r\n",
        "fig, ax = plt.subplots(\n",
        "  subplot_kw = {'projection': 'polar'} \n",
        ")\n",
        "ax.plot(theta, r)\n",
        "ax.set_rticks([0.5, 1, 1.5, 2])\n",
        "ax.grid(True)\n",
        "plt.show()"
      ],
      "id": "fig-polar",
      "execution_count": null,
      "outputs": []
    },
    {
      "cell_type": "markdown",
      "metadata": {},
      "source": [
        "## lightbox\n",
        "\n",
        "The images are interactive, try clicking on one!\n",
        "\n",
        "::: {layout-ncol=\"2\"}\n",
        "\n",
        "![Lions](https://upload.wikimedia.org/wikipedia/commons/thumb/7/73/Lion_waiting_in_Namibia.jpg/800px-Lion_waiting_in_Namibia.jpg){group=\"my-gallery\"}\n",
        "\n",
        "![and tigers](https://upload.wikimedia.org/wikipedia/commons/thumb/d/d8/Panthera_tigris_corbetti_%28Tierpark_Berlin%29_832-714-%28118%29.jpg/1024px-Panthera_tigris_corbetti_%28Tierpark_Berlin%29_832-714-%28118%29.jpg){group=\"my-gallery\"}\n",
        "\n",
        "![and bears](https://upload.wikimedia.org/wikipedia/commons/5/54/Chengdu-pandas-d10.jpg){group=\"my-gallery\"}\n",
        "\n",
        "![oh my!](){group=\"my-gallery\"}\n",
        "\n",
        ":::\n",
        "\n",
        "Quarto can arrange images for you, with the ability to both arrange them in various grid configurations as well as for a pop-out interaction when clicked on. This is done through [quarto extensions](https://quarto.org/docs/extensions/), requiring quarto v1.2 or higher. \n",
        "\n",
        "* Tips on dealing with displaying images in a rendered quarto document: <https://quarto.org/docs/authoring/figures.html#figure-panels>\n",
        "\n",
        "* Install the lightbox extension: <https://github.com/quarto-ext/lightbox>\n",
        "\n",
        "```bash\n",
        "quarto install extension quarto-ext/lightbox\n",
        "```\n",
        "\n",
        "[Check out the code](https://github.com/sol-eng/python-examples/tree/main/quarto-lightbox/)"
      ],
      "id": "ec222f61"
    }
  ],
  "metadata": {
    "kernelspec": {
      "display_name": "Python 3",
      "language": "python",
      "name": "python3"
    }
  },
  "nbformat": 4,
  "nbformat_minor": 5
}